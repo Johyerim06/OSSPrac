{
 "cells": [
  {
   "cell_type": "markdown",
   "id": "50114296",
   "metadata": {},
   "source": [
    "```\n",
    "PS C:\\Users\\koro2\\OSSPRAC\\prac4_2\\OSSPrac> git add .\n",
    "PS C:\\Users\\koro2\\OSSPRAC\\prac4_2\\OSSPrac> git status\n",
    "On branch main\n",
    "Your branch is up to date with 'origin/main'.\n",
    "\n",
    "Changes to be committed:\n",
    "  (use \"git restore --staged <file>...\" to unstage)        \n",
    "        modified:   README.md\n",
    "```"
   ]
  },
  {
   "cell_type": "markdown",
   "id": "f9c7ed19",
   "metadata": {},
   "source": []
  },
  {
   "cell_type": "markdown",
   "id": "636d700f",
   "metadata": {},
   "source": [
    "```\n",
    "PS C:\\Users\\koro2\\OSSPRAC\\prac4_2\\OSSPrac> git commit -m 'D'\n",
    "[main 9cbe982] D\n",
    " 1 file changed, 2 insertions(+), 1 deletion(-)\n",
    "PS C:\\Users\\koro2\\OSSPRAC\\prac4_2\\OSSPrac> git status\n",
    "On branch main\n",
    "Your branch is ahead of 'origin/main' by 1 commit.\n",
    "  (use \"git push\" to publish your local commits)\n",
    "\n",
    "nothing to commit, working tree clean\n",
    "```"
   ]
  },
  {
   "cell_type": "markdown",
   "id": "b7e9b39c",
   "metadata": {},
   "source": []
  }
 ],
 "metadata": {
  "language_info": {
   "name": "python"
  }
 },
 "nbformat": 4,
 "nbformat_minor": 5
}
